{
 "cells": [
  {
   "cell_type": "markdown",
   "metadata": {},
   "source": [
    "# Continuous Control\n",
    "\n",
    "---\n",
    "\n",
    "In this notebook, you will learn how to use the Unity ML-Agents environment for the second project of the [Deep Reinforcement Learning Nanodegree](https://www.udacity.com/course/deep-reinforcement-learning-nanodegree--nd893) program.\n",
    "\n",
    "### 1. Start the Environment\n",
    "\n",
    "We begin by importing the necessary packages.  If the code cell below returns an error, please revisit the project instructions to double-check that you have installed [Unity ML-Agents](https://github.com/Unity-Technologies/ml-agents/blob/master/docs/Installation.md) and [NumPy](http://www.numpy.org/)."
   ]
  },
  {
   "cell_type": "code",
   "execution_count": null,
   "metadata": {},
   "outputs": [],
   "source": [
    "from unityagents import UnityEnvironment\n",
    "import numpy as np\n",
    "import random\n",
    "import torch\n",
    "import time\n",
    "import numpy as np\n",
    "from collections import deque\n",
    "import matplotlib.pyplot as plt\n",
    "%matplotlib inline\n",
    "\n",
    "from ddpg_agent import Agent, ReplayBuffer\n",
    "\n"
   ]
  },
  {
   "cell_type": "markdown",
   "metadata": {},
   "source": [
    "Next, we will start the environment!  **_Before running the code cell below_**, change the `file_name` parameter to match the location of the Unity environment that you downloaded.\n",
    "\n",
    "- **Mac**: `\"path/to/Reacher.app\"`\n",
    "- **Windows** (x86): `\"path/to/Reacher_Windows_x86/Reacher.exe\"`\n",
    "- **Windows** (x86_64): `\"path/to/Reacher_Windows_x86_64/Reacher.exe\"`\n",
    "- **Linux** (x86): `\"path/to/Reacher_Linux/Reacher.x86\"`\n",
    "- **Linux** (x86_64): `\"path/to/Reacher_Linux/Reacher.x86_64\"`\n",
    "- **Linux** (x86, headless): `\"path/to/Reacher_Linux_NoVis/Reacher.x86\"`\n",
    "- **Linux** (x86_64, headless): `\"path/to/Reacher_Linux_NoVis/Reacher.x86_64\"`\n",
    "\n",
    "For instance, if you are using a Mac, then you downloaded `Reacher.app`.  If this file is in the same folder as the notebook, then the line below should appear as follows:\n",
    "```\n",
    "env = UnityEnvironment(file_name=\"Reacher.app\")\n",
    "```"
   ]
  },
  {
   "cell_type": "code",
   "execution_count": null,
   "metadata": {},
   "outputs": [],
   "source": [
    "env = UnityEnvironment(file_name='/home/bobding/Downloads/Reacher_Linux/Reacher.x86_64')"
   ]
  },
  {
   "cell_type": "markdown",
   "metadata": {},
   "source": [
    "Environments contain **_brains_** which are responsible for deciding the actions of their associated agents. Here we check for the first brain available, and set it as the default brain we will be controlling from Python."
   ]
  },
  {
   "cell_type": "code",
   "execution_count": 3,
   "metadata": {},
   "outputs": [],
   "source": [
    "# get the default brain\n",
    "brain_name = env.brain_names[0]\n",
    "brain = env.brains[brain_name]"
   ]
  },
  {
   "cell_type": "markdown",
   "metadata": {},
   "source": [
    "### 2. Examine the State and Action Spaces\n",
    "\n",
    "In this environment, a double-jointed arm can move to target locations. A reward of `+0.1` is provided for each step that the agent's hand is in the goal location. Thus, the goal of your agent is to maintain its position at the target location for as many time steps as possible.\n",
    "\n",
    "The observation space consists of `33` variables corresponding to position, rotation, velocity, and angular velocities of the arm.  Each action is a vector with four numbers, corresponding to torque applicable to two joints.  Every entry in the action vector must be a number between `-1` and `1`.\n",
    "\n",
    "Run the code cell below to print some information about the environment."
   ]
  },
  {
   "cell_type": "code",
   "execution_count": 4,
   "metadata": {},
   "outputs": [
    {
     "name": "stdout",
     "output_type": "stream",
     "text": [
      "Number of agents: 1\n",
      "Size of each action: 4\n",
      "There are 1 agents. Each observes a state with length: 33\n",
      "The state for the first agent looks like: [ 0.00000000e+00 -4.00000000e+00  0.00000000e+00  1.00000000e+00\n",
      " -0.00000000e+00 -0.00000000e+00 -4.37113883e-08  0.00000000e+00\n",
      "  0.00000000e+00  0.00000000e+00  0.00000000e+00  0.00000000e+00\n",
      "  0.00000000e+00  0.00000000e+00 -1.00000000e+01  0.00000000e+00\n",
      "  1.00000000e+00 -0.00000000e+00 -0.00000000e+00 -4.37113883e-08\n",
      "  0.00000000e+00  0.00000000e+00  0.00000000e+00  0.00000000e+00\n",
      "  0.00000000e+00  0.00000000e+00  5.75471878e+00 -1.00000000e+00\n",
      "  5.55726671e+00  0.00000000e+00  1.00000000e+00  0.00000000e+00\n",
      " -1.68164849e-01]\n"
     ]
    }
   ],
   "source": [
    "# reset the environment\n",
    "env_info = env.reset(train_mode=True)[brain_name]\n",
    "\n",
    "# number of agents\n",
    "num_agents = len(env_info.agents)\n",
    "print('Number of agents:', num_agents)\n",
    "\n",
    "# size of each action\n",
    "action_size = brain.vector_action_space_size\n",
    "print('Size of each action:', action_size)\n",
    "\n",
    "# examine the state space \n",
    "states = env_info.vector_observations\n",
    "state_size = states.shape[1]\n",
    "print('There are {} agents. Each observes a state with length: {}'.format(states.shape[0], state_size))\n",
    "print('The state for the first agent looks like:', states[0])"
   ]
  },
  {
   "cell_type": "markdown",
   "metadata": {},
   "source": [
    "### 3. Take Random Actions in the Environment\n",
    "\n",
    "In the next code cell, you will learn how to use the Python API to control the agent and receive feedback from the environment.\n",
    "\n",
    "Once this cell is executed, you will watch the agent's performance, if it selects an action at random with each time step.  A window should pop up that allows you to observe the agent, as it moves through the environment.  \n",
    "\n",
    "Of course, as part of the project, you'll have to change the code so that the agent is able to use its experience to gradually choose better actions when interacting with the environment!"
   ]
  },
  {
   "cell_type": "code",
   "execution_count": null,
   "metadata": {},
   "outputs": [],
   "source": []
  },
  {
   "cell_type": "code",
   "execution_count": null,
   "metadata": {},
   "outputs": [],
   "source": []
  },
  {
   "cell_type": "code",
   "execution_count": null,
   "metadata": {},
   "outputs": [],
   "source": []
  },
  {
   "cell_type": "markdown",
   "metadata": {},
   "source": [
    "### 4. It's Your Turn!\n",
    "\n",
    "Now it's your turn to train your own agent to solve the environment!  When training the environment, set `train_mode=True`, so that the line for resetting the environment looks like the following:\n",
    "```python\n",
    "env_info = env.reset(train_mode=True)[brain_name]\n",
    "```"
   ]
  },
  {
   "cell_type": "code",
   "execution_count": 5,
   "metadata": {},
   "outputs": [],
   "source": [
    "env_info = env.reset(train_mode=True)[brain_name]\n",
    "\n",
    "random_seed = 7\n",
    "train_mode = True\n",
    "\n",
    "agent = Agent(state_size=state_size, action_size=action_size, random_seed=random_seed)\n"
   ]
  },
  {
   "cell_type": "code",
   "execution_count": null,
   "metadata": {},
   "outputs": [
    {
     "name": "stdout",
     "output_type": "stream",
     "text": [
      "\r",
      "Episode 1\tTotal Average Score: 0.56\tMean: 0.56\tMin: 0.56\tMax: 0.56\tDuration: 2.13\n"
     ]
    },
    {
     "name": "stderr",
     "output_type": "stream",
     "text": [
      "/home/bobding/SynologyDrive/Udacity-RL-nano/continuous-control-gitub/ddpg_agent.py:105: UserWarning: torch.nn.utils.clip_grad_norm is now deprecated in favor of torch.nn.utils.clip_grad_norm_.\n",
      "  torch.nn.utils.clip_grad_norm(self.critic_local.parameters(), 1)\n"
     ]
    },
    {
     "name": "stdout",
     "output_type": "stream",
     "text": [
      "Episode 2\tTotal Average Score: 0.45\tMean: 0.34\tMin: 0.34\tMax: 0.34\tDuration: 8.74\n",
      "Episode 3\tTotal Average Score: 0.41\tMean: 0.34\tMin: 0.34\tMax: 0.34\tDuration: 8.91\n",
      "Episode 4\tTotal Average Score: 0.31\tMean: 0.00\tMin: 0.00\tMax: 0.00\tDuration: 8.76\n",
      "Episode 5\tTotal Average Score: 0.27\tMean: 0.12\tMin: 0.12\tMax: 0.12\tDuration: 8.92\n",
      "Episode 6\tTotal Average Score: 0.26\tMean: 0.19\tMin: 0.19\tMax: 0.19\tDuration: 8.67\n",
      "Episode 7\tTotal Average Score: 0.30\tMean: 0.53\tMin: 0.53\tMax: 0.53\tDuration: 8.82\n",
      "Episode 8\tTotal Average Score: 0.38\tMean: 0.94\tMin: 0.94\tMax: 0.94\tDuration: 8.98\n",
      "Episode 9\tTotal Average Score: 0.34\tMean: 0.00\tMin: 0.00\tMax: 0.00\tDuration: 8.86\n",
      "Episode 10\tTotal Average Score: 0.34\tMean: 0.40\tMin: 0.40\tMax: 0.40\tDuration: 9.52\n",
      "Episode 10\tTotal Average Score: 0.34\n",
      "Episode 11\tTotal Average Score: 0.33\tMean: 0.26\tMin: 0.26\tMax: 0.26\tDuration: 9.38\n",
      "Episode 12\tTotal Average Score: 0.43\tMean: 1.49\tMin: 1.49\tMax: 1.49\tDuration: 9.17\n",
      "Episode 13\tTotal Average Score: 0.52\tMean: 1.56\tMin: 1.56\tMax: 1.56\tDuration: 9.23\n",
      "Episode 14\tTotal Average Score: 0.57\tMean: 1.24\tMin: 1.24\tMax: 1.24\tDuration: 9.08\n",
      "Episode 15\tTotal Average Score: 0.55\tMean: 0.32\tMin: 0.32\tMax: 0.32\tDuration: 8.86\n",
      "Episode 16\tTotal Average Score: 0.54\tMean: 0.28\tMin: 0.28\tMax: 0.28\tDuration: 9.22\n",
      "Episode 17\tTotal Average Score: 0.55\tMean: 0.74\tMin: 0.74\tMax: 0.74\tDuration: 8.89\n",
      "Episode 18\tTotal Average Score: 0.53\tMean: 0.24\tMin: 0.24\tMax: 0.24\tDuration: 8.79\n",
      "Episode 19\tTotal Average Score: 0.54\tMean: 0.74\tMin: 0.74\tMax: 0.74\tDuration: 9.56\n",
      "Episode 20\tTotal Average Score: 0.66\tMean: 2.91\tMin: 2.91\tMax: 2.91\tDuration: 10.17\n",
      "Episode 20\tTotal Average Score: 0.66\n",
      "Episode 21\tTotal Average Score: 0.64\tMean: 0.30\tMin: 0.30\tMax: 0.30\tDuration: 10.55\n",
      "Episode 22\tTotal Average Score: 0.67\tMean: 1.17\tMin: 1.17\tMax: 1.17\tDuration: 9.58\n",
      "Episode 23\tTotal Average Score: 0.66\tMean: 0.60\tMin: 0.60\tMax: 0.60\tDuration: 9.31\n",
      "Episode 24\tTotal Average Score: 0.68\tMean: 1.16\tMin: 1.16\tMax: 1.16\tDuration: 9.26\n",
      "Episode 25\tTotal Average Score: 0.69\tMean: 0.86\tMin: 0.86\tMax: 0.86\tDuration: 9.60\n",
      "Episode 26\tTotal Average Score: 0.72\tMean: 1.38\tMin: 1.38\tMax: 1.38\tDuration: 9.03\n",
      "Episode 27\tTotal Average Score: 0.72\tMean: 0.75\tMin: 0.75\tMax: 0.75\tDuration: 9.16\n",
      "Episode 28\tTotal Average Score: 0.74\tMean: 1.44\tMin: 1.44\tMax: 1.44\tDuration: 9.59\n",
      "Episode 29\tTotal Average Score: 0.76\tMean: 1.25\tMin: 1.25\tMax: 1.25\tDuration: 9.39\n",
      "Episode 30\tTotal Average Score: 0.80\tMean: 1.77\tMin: 1.77\tMax: 1.77\tDuration: 9.52\n",
      "Episode 30\tTotal Average Score: 0.80\n",
      "Episode 31\tTotal Average Score: 0.85\tMean: 2.54\tMin: 2.54\tMax: 2.54\tDuration: 9.76\n",
      "Episode 32\tTotal Average Score: 0.87\tMean: 1.47\tMin: 1.47\tMax: 1.47\tDuration: 9.53\n",
      "Episode 33\tTotal Average Score: 0.90\tMean: 1.93\tMin: 1.93\tMax: 1.93\tDuration: 9.22\n",
      "Episode 34\tTotal Average Score: 0.93\tMean: 1.64\tMin: 1.64\tMax: 1.64\tDuration: 9.54\n",
      "Episode 35\tTotal Average Score: 0.94\tMean: 1.33\tMin: 1.33\tMax: 1.33\tDuration: 9.88\n",
      "Episode 36\tTotal Average Score: 0.96\tMean: 1.91\tMin: 1.91\tMax: 1.91\tDuration: 9.50\n",
      "Episode 37\tTotal Average Score: 0.97\tMean: 1.06\tMin: 1.06\tMax: 1.06\tDuration: 9.58\n",
      "Episode 38\tTotal Average Score: 0.99\tMean: 1.75\tMin: 1.75\tMax: 1.75\tDuration: 9.49\n",
      "Episode 39\tTotal Average Score: 0.97\tMean: 0.44\tMin: 0.44\tMax: 0.44\tDuration: 9.92\n"
     ]
    }
   ],
   "source": [
    "def ddpg(n_episodes=2000, max_t=1000, print_every=10, learn_every=20, num_learn=10, goal_score=30):\n",
    "    total_scores_deque = deque(maxlen=100)\n",
    "    total_scores = []\n",
    "    \n",
    "    for i_episode in range(1, n_episodes+1):\n",
    "        # Reset Env and Agent\n",
    "        env_info = env.reset(train_mode=train_mode)[brain_name]       # reset the environment    \n",
    "        states = env_info.vector_observations                   # get the current state (for each agent)\n",
    "        scores = np.zeros(num_agents)                            # initialize the score (for each agent)\n",
    "        agent.reset()\n",
    "        \n",
    "        start_time = time.time()\n",
    "        \n",
    "        for t in range(max_t):\n",
    "            actions = agent.act(states)\n",
    "            \n",
    "            env_info = env.step(actions)[brain_name]            # send all actions to the environment\n",
    "            next_states = env_info.vector_observations          # get next state (for each agent)\n",
    "            rewards = env_info.rewards                          # get reward (for each agent)\n",
    "            \n",
    "            dones = env_info.local_done                         # see if episode finished\n",
    "            \n",
    "            for state, action, reward, next_state, done in zip(states, actions, rewards, next_states, dones):\n",
    "                agent.step(state, action, reward, next_state, done) # send actions to the agent\n",
    "            \n",
    "            scores += env_info.rewards                           # update the score (for each agent)\n",
    "            states = next_states                                # roll over states to next time step\n",
    "            \n",
    "            if t%learn_every == 0:\n",
    "                for _ in range(num_learn):\n",
    "                    agent.start_learn()\n",
    "            \n",
    "            if np.any(dones):                                   # exit loop if episode finished\n",
    "                break\n",
    "    \n",
    "        mean_score = np.mean(scores)\n",
    "        min_score = np.min(scores)\n",
    "        max_score = np.max(scores)\n",
    "        total_scores_deque.append(mean_score)\n",
    "        total_scores.append(mean_score)\n",
    "        total_average_score = np.mean(total_scores_deque)\n",
    "        duration = time.time() - start_time\n",
    "        \n",
    "        print('\\rEpisode {}\\tTotal Average Score: {:.2f}\\tMean: {:.2f}\\tMin: {:.2f}\\tMax: {:.2f}\\tDuration: {:.2f}'\n",
    "              .format(i_episode, total_average_score, mean_score, min_score, max_score, duration))\n",
    "\n",
    "        if i_episode % print_every == 0:\n",
    "            torch.save(agent.actor_local.state_dict(), 'checkpoint_actor.pth')\n",
    "            torch.save(agent.critic_local.state_dict(), 'checkpoint_critic.pth')\n",
    "            print('\\rEpisode {}\\tTotal Average Score: {:.2f}'.format(i_episode, total_average_score))  \n",
    "            \n",
    "        if total_average_score >= goal_score and i_episode >= 100:\n",
    "            print('Problem Solved after {} epsisodes!! Total Average score: {:.2f}'.format(i_episode, total_average_score))\n",
    "            torch.save(agent.actor_local.state_dict(), 'checkpoint_actor.pth')\n",
    "            torch.save(agent.critic_local.state_dict(), 'checkpoint_critic.pth')\n",
    "            break\n",
    "    \n",
    "    return total_scores\n",
    "\n",
    "scores = ddpg()\n"
   ]
  },
  {
   "cell_type": "code",
   "execution_count": null,
   "metadata": {},
   "outputs": [],
   "source": [
    "fig = plt.figure()\n",
    "ax = fig.add_subplot(1,1,1)\n",
    "\n",
    "plt.plot(np.arange(1, len(scores)+1), scores)\n",
    "plt.ylabel('Score')\n",
    "plt.xlabel('Episode #')\n",
    "plt.show()\n"
   ]
  },
  {
   "cell_type": "code",
   "execution_count": null,
   "metadata": {},
   "outputs": [],
   "source": [
    "# Load the saved weights into Pytorch model\n",
    "agent.actor_local.load_state_dict(torch.load('checkpoint_actor.pth', map_location='cpu'))\n",
    "agent.critic_local.load_state_dict(torch.load('checkpoint_critic.pth', map_location='cpu'))\n",
    "\n",
    "env_info = env.reset(train_mode=False)[brain_name]     # reset the environment    \n",
    "states = env_info.vector_observations                  # get the current state (for each agent)\n",
    "scores = np.zeros(num_agents)                          # initialize the score (for each agent)\n",
    "\n",
    "while True:\n",
    "    actions = agent.act(states)                        # select actions from loaded model agent\n",
    "    env_info = env.step(actions)[brain_name]           # send all actions to tne environment\n",
    "    next_states = env_info.vector_observations         # get next state (for each agent)\n",
    "    rewards = env_info.rewards                         # get reward (for each agent)\n",
    "    dones = env_info.local_done                        # see if episode finished\n",
    "    scores += env_info.rewards                         # update the score (for each agent)\n",
    "    states = next_states                               # roll over states to next time step\n",
    "    if np.any(dones):                                  # exit loop if episode finished\n",
    "        break\n",
    "print('Total score: {}'.format(np.mean(scores)))"
   ]
  },
  {
   "cell_type": "code",
   "execution_count": null,
   "metadata": {},
   "outputs": [],
   "source": [
    "env.close()"
   ]
  }
 ],
 "metadata": {
  "kernelspec": {
   "display_name": "Python 3",
   "language": "python",
   "name": "python3"
  },
  "language_info": {
   "codemirror_mode": {
    "name": "ipython",
    "version": 3
   },
   "file_extension": ".py",
   "mimetype": "text/x-python",
   "name": "python",
   "nbconvert_exporter": "python",
   "pygments_lexer": "ipython3",
   "version": "3.6.5"
  },
  "latex_envs": {
   "LaTeX_envs_menu_present": true,
   "autoclose": false,
   "autocomplete": true,
   "bibliofile": "biblio.bib",
   "cite_by": "apalike",
   "current_citInitial": 1,
   "eqLabelWithNumbers": true,
   "eqNumInitial": 1,
   "hotkeys": {
    "equation": "Ctrl-E",
    "itemize": "Ctrl-I"
   },
   "labels_anchors": false,
   "latex_user_defs": false,
   "report_style_numbering": false,
   "user_envs_cfg": false
  },
  "varInspector": {
   "cols": {
    "lenName": 16,
    "lenType": 16,
    "lenVar": 40
   },
   "kernels_config": {
    "python": {
     "delete_cmd_postfix": "",
     "delete_cmd_prefix": "del ",
     "library": "var_list.py",
     "varRefreshCmd": "print(var_dic_list())"
    },
    "r": {
     "delete_cmd_postfix": ") ",
     "delete_cmd_prefix": "rm(",
     "library": "var_list.r",
     "varRefreshCmd": "cat(var_dic_list()) "
    }
   },
   "types_to_exclude": [
    "module",
    "function",
    "builtin_function_or_method",
    "instance",
    "_Feature"
   ],
   "window_display": false
  }
 },
 "nbformat": 4,
 "nbformat_minor": 2
}
