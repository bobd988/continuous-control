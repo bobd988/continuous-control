{
 "cells": [
  {
   "cell_type": "markdown",
   "metadata": {},
   "source": [
    "# Continuous Control\n",
    "\n",
    "---\n",
    "\n",
    "In this notebook, you will learn how to use the Unity ML-Agents environment for the second project of the [Deep Reinforcement Learning Nanodegree](https://www.udacity.com/course/deep-reinforcement-learning-nanodegree--nd893) program.\n",
    "\n",
    "### 1. Start the Environment\n",
    "\n",
    "We begin by importing the necessary packages.  If the code cell below returns an error, please revisit the project instructions to double-check that you have installed [Unity ML-Agents](https://github.com/Unity-Technologies/ml-agents/blob/master/docs/Installation.md) and [NumPy](http://www.numpy.org/)."
   ]
  },
  {
   "cell_type": "code",
   "execution_count": 1,
   "metadata": {},
   "outputs": [],
   "source": [
    "from unityagents import UnityEnvironment\n",
    "import numpy as np\n",
    "import random\n",
    "import torch\n",
    "import time\n",
    "import numpy as np\n",
    "from collections import deque\n",
    "import matplotlib.pyplot as plt\n",
    "%matplotlib inline\n",
    "\n",
    "from ddpg_agent import Agent, ReplayBuffer\n",
    "\n"
   ]
  },
  {
   "cell_type": "markdown",
   "metadata": {},
   "source": [
    "Next, we will start the environment!  **_Before running the code cell below_**, change the `file_name` parameter to match the location of the Unity environment that you downloaded.\n",
    "\n",
    "- **Mac**: `\"path/to/Reacher.app\"`\n",
    "- **Windows** (x86): `\"path/to/Reacher_Windows_x86/Reacher.exe\"`\n",
    "- **Windows** (x86_64): `\"path/to/Reacher_Windows_x86_64/Reacher.exe\"`\n",
    "- **Linux** (x86): `\"path/to/Reacher_Linux/Reacher.x86\"`\n",
    "- **Linux** (x86_64): `\"path/to/Reacher_Linux/Reacher.x86_64\"`\n",
    "- **Linux** (x86, headless): `\"path/to/Reacher_Linux_NoVis/Reacher.x86\"`\n",
    "- **Linux** (x86_64, headless): `\"path/to/Reacher_Linux_NoVis/Reacher.x86_64\"`\n",
    "\n",
    "For instance, if you are using a Mac, then you downloaded `Reacher.app`.  If this file is in the same folder as the notebook, then the line below should appear as follows:\n",
    "```\n",
    "env = UnityEnvironment(file_name=\"Reacher.app\")\n",
    "```"
   ]
  },
  {
   "cell_type": "code",
   "execution_count": 2,
   "metadata": {},
   "outputs": [
    {
     "name": "stderr",
     "output_type": "stream",
     "text": [
      "INFO:unityagents:\n",
      "'Academy' started successfully!\n",
      "Unity Academy name: Academy\n",
      "        Number of Brains: 1\n",
      "        Number of External Brains : 1\n",
      "        Lesson number : 0\n",
      "        Reset Parameters :\n",
      "\t\tgoal_speed -> 1.0\n",
      "\t\tgoal_size -> 5.0\n",
      "Unity brain name: ReacherBrain\n",
      "        Number of Visual Observations (per agent): 0\n",
      "        Vector Observation space type: continuous\n",
      "        Vector Observation space size (per agent): 33\n",
      "        Number of stacked Vector Observation: 1\n",
      "        Vector Action space type: continuous\n",
      "        Vector Action space size (per agent): 4\n",
      "        Vector Action descriptions: , , , \n"
     ]
    }
   ],
   "source": [
    "env = UnityEnvironment(file_name='/home/bobding/Downloads/Reacher_Linux/Reacher.x86_64')"
   ]
  },
  {
   "cell_type": "markdown",
   "metadata": {},
   "source": [
    "Environments contain **_brains_** which are responsible for deciding the actions of their associated agents. Here we check for the first brain available, and set it as the default brain we will be controlling from Python."
   ]
  },
  {
   "cell_type": "code",
   "execution_count": 3,
   "metadata": {},
   "outputs": [],
   "source": [
    "# get the default brain\n",
    "brain_name = env.brain_names[0]\n",
    "brain = env.brains[brain_name]"
   ]
  },
  {
   "cell_type": "markdown",
   "metadata": {},
   "source": [
    "### 2. Examine the State and Action Spaces\n",
    "\n",
    "In this environment, a double-jointed arm can move to target locations. A reward of `+0.1` is provided for each step that the agent's hand is in the goal location. Thus, the goal of your agent is to maintain its position at the target location for as many time steps as possible.\n",
    "\n",
    "The observation space consists of `33` variables corresponding to position, rotation, velocity, and angular velocities of the arm.  Each action is a vector with four numbers, corresponding to torque applicable to two joints.  Every entry in the action vector must be a number between `-1` and `1`.\n",
    "\n",
    "Run the code cell below to print some information about the environment."
   ]
  },
  {
   "cell_type": "code",
   "execution_count": 4,
   "metadata": {},
   "outputs": [
    {
     "name": "stdout",
     "output_type": "stream",
     "text": [
      "Number of agents: 20\n",
      "Size of each action: 4\n",
      "There are 20 agents. Each observes a state with length: 33\n",
      "The state for the first agent looks like: [ 0.00000000e+00 -4.00000000e+00  0.00000000e+00  1.00000000e+00\n",
      " -0.00000000e+00 -0.00000000e+00 -4.37113883e-08  0.00000000e+00\n",
      "  0.00000000e+00  0.00000000e+00  0.00000000e+00  0.00000000e+00\n",
      "  0.00000000e+00  0.00000000e+00 -1.00000000e+01  0.00000000e+00\n",
      "  1.00000000e+00 -0.00000000e+00 -0.00000000e+00 -4.37113883e-08\n",
      "  0.00000000e+00  0.00000000e+00  0.00000000e+00  0.00000000e+00\n",
      "  0.00000000e+00  0.00000000e+00  5.75471878e+00 -1.00000000e+00\n",
      "  5.55726624e+00  0.00000000e+00  1.00000000e+00  0.00000000e+00\n",
      " -1.68164849e-01]\n"
     ]
    }
   ],
   "source": [
    "# reset the environment\n",
    "env_info = env.reset(train_mode=True)[brain_name]\n",
    "\n",
    "# number of agents\n",
    "num_agents = len(env_info.agents)\n",
    "print('Number of agents:', num_agents)\n",
    "\n",
    "# size of each action\n",
    "action_size = brain.vector_action_space_size\n",
    "print('Size of each action:', action_size)\n",
    "\n",
    "# examine the state space \n",
    "states = env_info.vector_observations\n",
    "state_size = states.shape[1]\n",
    "print('There are {} agents. Each observes a state with length: {}'.format(states.shape[0], state_size))\n",
    "print('The state for the first agent looks like:', states[0])"
   ]
  },
  {
   "cell_type": "markdown",
   "metadata": {},
   "source": [
    "### 3. Take Random Actions in the Environment\n",
    "\n",
    "In the next code cell, you will learn how to use the Python API to control the agent and receive feedback from the environment.\n",
    "\n",
    "Once this cell is executed, you will watch the agent's performance, if it selects an action at random with each time step.  A window should pop up that allows you to observe the agent, as it moves through the environment.  \n",
    "\n",
    "Of course, as part of the project, you'll have to change the code so that the agent is able to use its experience to gradually choose better actions when interacting with the environment!"
   ]
  },
  {
   "cell_type": "code",
   "execution_count": 5,
   "metadata": {},
   "outputs": [
    {
     "name": "stdout",
     "output_type": "stream",
     "text": [
      "Total score (averaged over agents) this episode: 0.18699999582022428\n"
     ]
    }
   ],
   "source": [
    "env_info = env.reset(train_mode=False)[brain_name]     # reset the environment    \n",
    "states = env_info.vector_observations                  # get the current state (for each agent)\n",
    "scores = np.zeros(num_agents)                          # initialize the score (for each agent)\n",
    "while True:\n",
    "    actions = np.random.randn(num_agents, action_size) # select an action (for each agent)\n",
    "    actions = np.clip(actions, -1, 1)                  # all actions between -1 and 1\n",
    "    env_info = env.step(actions)[brain_name]           # send all actions to tne environment\n",
    "    next_states = env_info.vector_observations         # get next state (for each agent)\n",
    "    rewards = env_info.rewards                         # get reward (for each agent)\n",
    "    dones = env_info.local_done                        # see if episode finished\n",
    "    scores += env_info.rewards                         # update the score (for each agent)\n",
    "    states = next_states                               # roll over states to next time step\n",
    "    if np.any(dones):                                  # exit loop if episode finished\n",
    "        break\n",
    "print('Total score (averaged over agents) this episode: {}'.format(np.mean(scores)))"
   ]
  },
  {
   "cell_type": "markdown",
   "metadata": {},
   "source": [
    "When finished, you can close the environment."
   ]
  },
  {
   "cell_type": "code",
   "execution_count": 6,
   "metadata": {},
   "outputs": [],
   "source": [
    "#env.close()"
   ]
  },
  {
   "cell_type": "markdown",
   "metadata": {},
   "source": [
    "### 4. It's Your Turn!\n",
    "\n",
    "Now it's your turn to train your own agent to solve the environment!  When training the environment, set `train_mode=True`, so that the line for resetting the environment looks like the following:\n",
    "```python\n",
    "env_info = env.reset(train_mode=True)[brain_name]\n",
    "```"
   ]
  },
  {
   "cell_type": "code",
   "execution_count": 7,
   "metadata": {},
   "outputs": [],
   "source": [
    "env_info = env.reset(train_mode=True)[brain_name]\n",
    "\n",
    "random_seed = 7\n",
    "train_mode = True\n",
    "\n",
    "agent = Agent(state_size=state_size, action_size=action_size, random_seed=random_seed)\n"
   ]
  },
  {
   "cell_type": "code",
   "execution_count": 8,
   "metadata": {},
   "outputs": [
    {
     "name": "stderr",
     "output_type": "stream",
     "text": [
      "/home/bobding/anaconda3/envs/py3/lib/python3.6/site-packages/torch/nn/functional.py:1320: UserWarning: nn.functional.tanh is deprecated. Use torch.tanh instead.\n",
      "  warnings.warn(\"nn.functional.tanh is deprecated. Use torch.tanh instead.\")\n",
      "/home/bobding/disk1t/SynologyDrive/Udacity-RL-nano/continuous-control-gitub/ddpg_agent.py:105: UserWarning: torch.nn.utils.clip_grad_norm is now deprecated in favor of torch.nn.utils.clip_grad_norm_.\n",
      "  torch.nn.utils.clip_grad_norm(self.critic_local.parameters(), 1)\n"
     ]
    },
    {
     "name": "stdout",
     "output_type": "stream",
     "text": [
      "Episode 1\tTotal Average Score: 0.76\tMean: 0.76\tMin: 0.00\tMax: 1.99\tDuration: 9.88\n",
      "Episode 2\tTotal Average Score: 0.78\tMean: 0.81\tMin: 0.25\tMax: 1.62\tDuration: 10.87\n",
      "Episode 3\tTotal Average Score: 0.79\tMean: 0.81\tMin: 0.17\tMax: 1.50\tDuration: 10.52\n",
      "Episode 4\tTotal Average Score: 0.78\tMean: 0.76\tMin: 0.22\tMax: 1.73\tDuration: 10.75\n",
      "Episode 5\tTotal Average Score: 0.83\tMean: 0.99\tMin: 0.11\tMax: 2.31\tDuration: 10.97\n",
      "Episode 6\tTotal Average Score: 0.91\tMean: 1.34\tMin: 0.41\tMax: 2.43\tDuration: 11.28\n",
      "Episode 7\tTotal Average Score: 0.92\tMean: 0.94\tMin: 0.26\tMax: 1.82\tDuration: 11.61\n",
      "Episode 8\tTotal Average Score: 1.01\tMean: 1.71\tMin: 0.26\tMax: 2.86\tDuration: 11.99\n",
      "Episode 9\tTotal Average Score: 1.10\tMean: 1.81\tMin: 0.23\tMax: 2.75\tDuration: 12.47\n",
      "Episode 10\tTotal Average Score: 1.21\tMean: 2.15\tMin: 0.29\tMax: 6.13\tDuration: 12.87\n",
      "Episode 10\tTotal Average Score: 1.21\n",
      "Episode 11\tTotal Average Score: 1.38\tMean: 3.09\tMin: 0.75\tMax: 7.85\tDuration: 13.35\n",
      "Episode 12\tTotal Average Score: 1.68\tMean: 5.01\tMin: 1.71\tMax: 10.12\tDuration: 13.82\n",
      "Episode 13\tTotal Average Score: 1.90\tMean: 4.54\tMin: 1.59\tMax: 8.76\tDuration: 14.28\n",
      "Episode 14\tTotal Average Score: 2.21\tMean: 6.23\tMin: 2.17\tMax: 16.64\tDuration: 14.79\n",
      "Episode 15\tTotal Average Score: 2.57\tMean: 7.67\tMin: 1.77\tMax: 21.28\tDuration: 15.35\n",
      "Episode 16\tTotal Average Score: 3.06\tMean: 10.29\tMin: 3.28\tMax: 24.55\tDuration: 15.90\n",
      "Episode 17\tTotal Average Score: 3.64\tMean: 13.02\tMin: 4.06\tMax: 20.14\tDuration: 16.37\n",
      "Episode 18\tTotal Average Score: 4.27\tMean: 14.86\tMin: 7.23\tMax: 22.43\tDuration: 16.90\n",
      "Episode 19\tTotal Average Score: 5.13\tMean: 20.61\tMin: 8.11\tMax: 29.08\tDuration: 17.37\n",
      "Episode 20\tTotal Average Score: 6.07\tMean: 23.98\tMin: 13.69\tMax: 36.85\tDuration: 17.83\n",
      "Episode 20\tTotal Average Score: 6.07\n",
      "Episode 21\tTotal Average Score: 7.05\tMean: 26.71\tMin: 12.81\tMax: 36.53\tDuration: 18.37\n",
      "Episode 22\tTotal Average Score: 8.05\tMean: 29.12\tMin: 16.16\tMax: 37.50\tDuration: 18.85\n",
      "Episode 23\tTotal Average Score: 8.96\tMean: 28.87\tMin: 14.38\tMax: 38.26\tDuration: 19.28\n",
      "Episode 24\tTotal Average Score: 9.80\tMean: 29.24\tMin: 17.08\tMax: 36.94\tDuration: 19.71\n",
      "Episode 25\tTotal Average Score: 10.82\tMean: 35.31\tMin: 22.96\tMax: 39.37\tDuration: 20.18\n",
      "Episode 26\tTotal Average Score: 11.73\tMean: 34.24\tMin: 25.46\tMax: 39.08\tDuration: 20.81\n",
      "Episode 27\tTotal Average Score: 12.59\tMean: 35.18\tMin: 25.28\tMax: 39.59\tDuration: 21.24\n",
      "Episode 28\tTotal Average Score: 13.46\tMean: 36.79\tMin: 32.17\tMax: 39.53\tDuration: 21.81\n",
      "Episode 29\tTotal Average Score: 14.28\tMean: 37.18\tMin: 32.89\tMax: 39.50\tDuration: 22.27\n",
      "Episode 30\tTotal Average Score: 15.04\tMean: 37.23\tMin: 31.36\tMax: 39.48\tDuration: 22.57\n",
      "Episode 30\tTotal Average Score: 15.04\n",
      "Episode 31\tTotal Average Score: 15.79\tMean: 38.36\tMin: 35.84\tMax: 39.57\tDuration: 23.19\n",
      "Episode 32\tTotal Average Score: 16.48\tMean: 37.79\tMin: 32.56\tMax: 39.54\tDuration: 23.63\n",
      "Episode 33\tTotal Average Score: 17.12\tMean: 37.68\tMin: 36.03\tMax: 39.04\tDuration: 24.16\n",
      "Episode 34\tTotal Average Score: 17.75\tMean: 38.43\tMin: 36.33\tMax: 39.61\tDuration: 24.77\n",
      "Episode 35\tTotal Average Score: 18.34\tMean: 38.38\tMin: 36.80\tMax: 39.58\tDuration: 25.79\n",
      "Episode 36\tTotal Average Score: 18.91\tMean: 38.78\tMin: 36.49\tMax: 39.65\tDuration: 26.77\n",
      "Episode 37\tTotal Average Score: 19.42\tMean: 37.97\tMin: 35.96\tMax: 39.34\tDuration: 27.00\n",
      "Episode 38\tTotal Average Score: 19.91\tMean: 38.02\tMin: 36.58\tMax: 39.30\tDuration: 26.64\n",
      "Episode 39\tTotal Average Score: 20.39\tMean: 38.71\tMin: 36.81\tMax: 39.61\tDuration: 27.46\n",
      "Episode 40\tTotal Average Score: 20.85\tMean: 38.75\tMin: 37.76\tMax: 39.44\tDuration: 28.03\n",
      "Episode 40\tTotal Average Score: 20.85\n",
      "Episode 41\tTotal Average Score: 21.28\tMean: 38.45\tMin: 36.58\tMax: 39.61\tDuration: 29.08\n",
      "Episode 42\tTotal Average Score: 21.68\tMean: 38.20\tMin: 35.63\tMax: 39.48\tDuration: 28.92\n",
      "Episode 43\tTotal Average Score: 22.09\tMean: 38.91\tMin: 37.40\tMax: 39.62\tDuration: 30.54\n",
      "Episode 44\tTotal Average Score: 22.47\tMean: 39.08\tMin: 37.32\tMax: 39.58\tDuration: 30.83\n",
      "Episode 45\tTotal Average Score: 22.84\tMean: 38.97\tMin: 38.21\tMax: 39.59\tDuration: 29.97\n",
      "Episode 46\tTotal Average Score: 23.19\tMean: 39.01\tMin: 37.18\tMax: 39.60\tDuration: 30.40\n",
      "Episode 47\tTotal Average Score: 23.50\tMean: 37.64\tMin: 36.19\tMax: 38.77\tDuration: 32.64\n",
      "Episode 48\tTotal Average Score: 23.81\tMean: 38.59\tMin: 37.37\tMax: 39.38\tDuration: 32.76\n",
      "Episode 49\tTotal Average Score: 24.12\tMean: 39.05\tMin: 37.73\tMax: 39.64\tDuration: 33.55\n",
      "Episode 50\tTotal Average Score: 24.42\tMean: 38.81\tMin: 37.69\tMax: 39.53\tDuration: 32.86\n",
      "Episode 50\tTotal Average Score: 24.42\n",
      "Episode 51\tTotal Average Score: 24.70\tMean: 38.66\tMin: 36.20\tMax: 39.57\tDuration: 33.86\n",
      "Episode 52\tTotal Average Score: 24.97\tMean: 39.09\tMin: 38.28\tMax: 39.64\tDuration: 34.02\n",
      "Episode 53\tTotal Average Score: 25.24\tMean: 39.02\tMin: 38.44\tMax: 39.62\tDuration: 34.81\n",
      "Episode 54\tTotal Average Score: 25.48\tMean: 38.34\tMin: 36.98\tMax: 39.25\tDuration: 35.97\n",
      "Episode 55\tTotal Average Score: 25.71\tMean: 37.87\tMin: 35.42\tMax: 39.58\tDuration: 33.29\n",
      "Episode 56\tTotal Average Score: 25.94\tMean: 38.72\tMin: 37.69\tMax: 39.32\tDuration: 33.71\n",
      "Episode 57\tTotal Average Score: 26.16\tMean: 38.64\tMin: 36.91\tMax: 39.34\tDuration: 33.09\n",
      "Episode 58\tTotal Average Score: 26.38\tMean: 38.93\tMin: 37.88\tMax: 39.44\tDuration: 32.90\n",
      "Episode 59\tTotal Average Score: 26.60\tMean: 39.18\tMin: 38.09\tMax: 39.65\tDuration: 33.54\n",
      "Episode 60\tTotal Average Score: 26.80\tMean: 38.90\tMin: 37.87\tMax: 39.55\tDuration: 35.81\n",
      "Episode 60\tTotal Average Score: 26.80\n",
      "Episode 61\tTotal Average Score: 27.01\tMean: 39.28\tMin: 38.71\tMax: 39.57\tDuration: 35.46\n",
      "Episode 62\tTotal Average Score: 27.20\tMean: 39.14\tMin: 36.91\tMax: 39.62\tDuration: 35.62\n",
      "Episode 63\tTotal Average Score: 27.39\tMean: 38.75\tMin: 37.71\tMax: 39.54\tDuration: 34.56\n",
      "Episode 64\tTotal Average Score: 27.57\tMean: 39.21\tMin: 38.42\tMax: 39.65\tDuration: 34.15\n",
      "Episode 65\tTotal Average Score: 27.75\tMean: 38.92\tMin: 37.94\tMax: 39.57\tDuration: 34.16\n",
      "Episode 66\tTotal Average Score: 27.92\tMean: 39.29\tMin: 38.61\tMax: 39.60\tDuration: 35.38\n",
      "Episode 67\tTotal Average Score: 28.08\tMean: 38.70\tMin: 37.90\tMax: 39.22\tDuration: 34.96\n",
      "Episode 68\tTotal Average Score: 28.24\tMean: 38.62\tMin: 36.57\tMax: 39.57\tDuration: 34.43\n",
      "Episode 69\tTotal Average Score: 28.40\tMean: 39.31\tMin: 38.81\tMax: 39.60\tDuration: 33.52\n",
      "Episode 70\tTotal Average Score: 28.55\tMean: 39.17\tMin: 38.49\tMax: 39.59\tDuration: 33.14\n",
      "Episode 70\tTotal Average Score: 28.55\n",
      "Episode 71\tTotal Average Score: 28.70\tMean: 39.02\tMin: 36.43\tMax: 39.60\tDuration: 33.15\n",
      "Episode 72\tTotal Average Score: 28.84\tMean: 39.00\tMin: 38.21\tMax: 39.57\tDuration: 34.02\n",
      "Episode 73\tTotal Average Score: 28.97\tMean: 37.87\tMin: 36.61\tMax: 39.05\tDuration: 33.45\n",
      "Episode 74\tTotal Average Score: 29.09\tMean: 38.06\tMin: 37.16\tMax: 39.64\tDuration: 34.53\n",
      "Episode 75\tTotal Average Score: 29.21\tMean: 38.14\tMin: 36.03\tMax: 39.37\tDuration: 35.91\n",
      "Episode 76\tTotal Average Score: 29.33\tMean: 38.28\tMin: 36.67\tMax: 39.31\tDuration: 34.00\n",
      "Episode 77\tTotal Average Score: 29.45\tMean: 38.59\tMin: 37.82\tMax: 39.54\tDuration: 34.68\n",
      "Episode 78\tTotal Average Score: 29.56\tMean: 38.34\tMin: 36.12\tMax: 39.46\tDuration: 37.18\n",
      "Episode 79\tTotal Average Score: 29.68\tMean: 38.93\tMin: 37.44\tMax: 39.61\tDuration: 33.56\n",
      "Episode 80\tTotal Average Score: 29.80\tMean: 39.21\tMin: 35.08\tMax: 39.65\tDuration: 34.95\n",
      "Episode 80\tTotal Average Score: 29.80\n",
      "Episode 81\tTotal Average Score: 29.90\tMean: 37.69\tMin: 34.84\tMax: 38.89\tDuration: 35.83\n",
      "Episode 82\tTotal Average Score: 29.96\tMean: 35.44\tMin: 33.47\tMax: 38.08\tDuration: 36.88\n",
      "Episode 83\tTotal Average Score: 30.07\tMean: 38.63\tMin: 35.55\tMax: 39.61\tDuration: 36.14\n",
      "Episode 84\tTotal Average Score: 30.17\tMean: 38.50\tMin: 36.70\tMax: 39.55\tDuration: 36.41\n",
      "Episode 85\tTotal Average Score: 30.27\tMean: 38.60\tMin: 36.15\tMax: 39.46\tDuration: 35.54\n",
      "Episode 86\tTotal Average Score: 30.36\tMean: 37.76\tMin: 34.35\tMax: 39.38\tDuration: 36.46\n",
      "Episode 87\tTotal Average Score: 30.44\tMean: 37.77\tMin: 36.90\tMax: 39.26\tDuration: 36.07\n",
      "Episode 88\tTotal Average Score: 30.54\tMean: 38.89\tMin: 37.52\tMax: 39.53\tDuration: 36.28\n",
      "Episode 89\tTotal Average Score: 30.62\tMean: 38.28\tMin: 36.30\tMax: 39.60\tDuration: 36.10\n",
      "Episode 90\tTotal Average Score: 30.70\tMean: 37.62\tMin: 36.43\tMax: 38.70\tDuration: 36.53\n",
      "Episode 90\tTotal Average Score: 30.70\n",
      "Episode 91\tTotal Average Score: 30.77\tMean: 37.26\tMin: 35.28\tMax: 38.92\tDuration: 35.91\n"
     ]
    },
    {
     "name": "stdout",
     "output_type": "stream",
     "text": [
      "Episode 92\tTotal Average Score: 30.86\tMean: 38.66\tMin: 36.95\tMax: 39.56\tDuration: 35.88\n",
      "Episode 93\tTotal Average Score: 30.94\tMean: 38.45\tMin: 37.20\tMax: 39.58\tDuration: 36.27\n",
      "Episode 94\tTotal Average Score: 31.02\tMean: 38.29\tMin: 36.38\tMax: 39.28\tDuration: 33.46\n",
      "Episode 95\tTotal Average Score: 31.09\tMean: 37.42\tMin: 32.71\tMax: 39.57\tDuration: 33.17\n",
      "Episode 96\tTotal Average Score: 31.17\tMean: 38.63\tMin: 36.99\tMax: 39.65\tDuration: 33.33\n",
      "Episode 97\tTotal Average Score: 31.24\tMean: 37.95\tMin: 35.94\tMax: 39.33\tDuration: 34.67\n",
      "Episode 98\tTotal Average Score: 31.31\tMean: 39.00\tMin: 37.14\tMax: 39.57\tDuration: 35.26\n",
      "Episode 99\tTotal Average Score: 31.39\tMean: 38.50\tMin: 36.69\tMax: 39.53\tDuration: 37.42\n",
      "Episode 100\tTotal Average Score: 31.46\tMean: 38.31\tMin: 37.28\tMax: 39.44\tDuration: 35.93\n",
      "Episode 100\tTotal Average Score: 31.46\n",
      "Problem Solved after 100 epsisodes!! Total Average score: 31.46\n"
     ]
    }
   ],
   "source": [
    "def ddpg(n_episodes=2000, max_t=1000, print_every=10, learn_every=20, num_learn=10, goal_score=30):\n",
    "    total_scores_deque = deque(maxlen=100)\n",
    "    total_scores = []\n",
    "    \n",
    "    for i_episode in range(1, n_episodes+1):\n",
    "        # Reset Env and Agent\n",
    "        env_info = env.reset(train_mode=train_mode)[brain_name]       # reset the environment    \n",
    "        states = env_info.vector_observations                   # get the current state (for each agent)\n",
    "        scores = np.zeros(num_agents)                            # initialize the score (for each agent)\n",
    "        agent.reset()\n",
    "        \n",
    "        start_time = time.time()\n",
    "        \n",
    "        for t in range(max_t):\n",
    "            actions = agent.act(states)\n",
    "            \n",
    "            env_info = env.step(actions)[brain_name]            # send all actions to the environment\n",
    "            next_states = env_info.vector_observations          # get next state (for each agent)\n",
    "            rewards = env_info.rewards                          # get reward (for each agent)\n",
    "            \n",
    "            dones = env_info.local_done                         # see if episode finished\n",
    "            \n",
    "            for state, action, reward, next_state, done in zip(states, actions, rewards, next_states, dones):\n",
    "                agent.step(state, action, reward, next_state, done) # send actions to the agent\n",
    "            \n",
    "            scores += env_info.rewards                           # update the score (for each agent)\n",
    "            states = next_states                                # roll over states to next time step\n",
    "            \n",
    "            if t%learn_every == 0:\n",
    "                for _ in range(num_learn):\n",
    "                    agent.start_learn()\n",
    "            \n",
    "            if np.any(dones):                                   # exit loop if episode finished\n",
    "                break\n",
    "    \n",
    "        mean_score = np.mean(scores)\n",
    "        min_score = np.min(scores)\n",
    "        max_score = np.max(scores)\n",
    "        total_scores_deque.append(mean_score)\n",
    "        total_scores.append(mean_score)\n",
    "        total_average_score = np.mean(total_scores_deque)\n",
    "        duration = time.time() - start_time\n",
    "        \n",
    "        print('\\rEpisode {}\\tTotal Average Score: {:.2f}\\tMean: {:.2f}\\tMin: {:.2f}\\tMax: {:.2f}\\tDuration: {:.2f}'\n",
    "              .format(i_episode, total_average_score, mean_score, min_score, max_score, duration))\n",
    "\n",
    "        if i_episode % print_every == 0:\n",
    "            torch.save(agent.actor_local.state_dict(), 'checkpoint_actor.pth')\n",
    "            torch.save(agent.critic_local.state_dict(), 'checkpoint_critic.pth')\n",
    "            print('\\rEpisode {}\\tTotal Average Score: {:.2f}'.format(i_episode, total_average_score))  \n",
    "            \n",
    "        if total_average_score >= goal_score and i_episode >= 100:\n",
    "            print('Problem Solved after {} epsisodes!! Total Average score: {:.2f}'.format(i_episode, total_average_score))\n",
    "            torch.save(agent.actor_local.state_dict(), 'checkpoint_actor.pth')\n",
    "            torch.save(agent.critic_local.state_dict(), 'checkpoint_critic.pth')\n",
    "            break\n",
    "    \n",
    "    return total_scores\n",
    "\n",
    "scores = ddpg()\n"
   ]
  },
  {
   "cell_type": "code",
   "execution_count": null,
   "metadata": {},
   "outputs": [],
   "source": [
    "fig = plt.figure()\n",
    "ax = fig.add_subplot(1,1,1)\n",
    "\n",
    "plt.plot(np.arange(1, len(scores)+1), scores)\n",
    "plt.ylabel('Score')\n",
    "plt.xlabel('Episode #')\n",
    "plt.show()\n"
   ]
  },
  {
   "cell_type": "code",
   "execution_count": null,
   "metadata": {},
   "outputs": [],
   "source": [
    "# Load the saved weights into Pytorch model\n",
    "agent.actor_local.load_state_dict(torch.load('checkpoint_actor.pth', map_location='cpu'))\n",
    "agent.critic_local.load_state_dict(torch.load('checkpoint_critic.pth', map_location='cpu'))\n",
    "\n",
    "env_info = env.reset(train_mode=False)[brain_name]     # reset the environment    \n",
    "states = env_info.vector_observations                  # get the current state (for each agent)\n",
    "scores = np.zeros(num_agents)                          # initialize the score (for each agent)\n",
    "\n",
    "while True:\n",
    "    actions = agent.act(states)                        # select actions from loaded model agent\n",
    "    env_info = env.step(actions)[brain_name]           # send all actions to tne environment\n",
    "    next_states = env_info.vector_observations         # get next state (for each agent)\n",
    "    rewards = env_info.rewards                         # get reward (for each agent)\n",
    "    dones = env_info.local_done                        # see if episode finished\n",
    "    scores += env_info.rewards                         # update the score (for each agent)\n",
    "    states = next_states                               # roll over states to next time step\n",
    "    if np.any(dones):                                  # exit loop if episode finished\n",
    "        break\n",
    "print('Total score: {}'.format(np.mean(scores)))"
   ]
  },
  {
   "cell_type": "code",
   "execution_count": null,
   "metadata": {},
   "outputs": [],
   "source": [
    "env.close()"
   ]
  }
 ],
 "metadata": {
  "kernelspec": {
   "display_name": "Python 3",
   "language": "python",
   "name": "python3"
  },
  "language_info": {
   "codemirror_mode": {
    "name": "ipython",
    "version": 3
   },
   "file_extension": ".py",
   "mimetype": "text/x-python",
   "name": "python",
   "nbconvert_exporter": "python",
   "pygments_lexer": "ipython3",
   "version": "3.6.5"
  },
  "latex_envs": {
   "LaTeX_envs_menu_present": true,
   "autoclose": false,
   "autocomplete": true,
   "bibliofile": "biblio.bib",
   "cite_by": "apalike",
   "current_citInitial": 1,
   "eqLabelWithNumbers": true,
   "eqNumInitial": 1,
   "hotkeys": {
    "equation": "Ctrl-E",
    "itemize": "Ctrl-I"
   },
   "labels_anchors": false,
   "latex_user_defs": false,
   "report_style_numbering": false,
   "user_envs_cfg": false
  },
  "varInspector": {
   "cols": {
    "lenName": 16,
    "lenType": 16,
    "lenVar": 40
   },
   "kernels_config": {
    "python": {
     "delete_cmd_postfix": "",
     "delete_cmd_prefix": "del ",
     "library": "var_list.py",
     "varRefreshCmd": "print(var_dic_list())"
    },
    "r": {
     "delete_cmd_postfix": ") ",
     "delete_cmd_prefix": "rm(",
     "library": "var_list.r",
     "varRefreshCmd": "cat(var_dic_list()) "
    }
   },
   "types_to_exclude": [
    "module",
    "function",
    "builtin_function_or_method",
    "instance",
    "_Feature"
   ],
   "window_display": false
  }
 },
 "nbformat": 4,
 "nbformat_minor": 2
}
